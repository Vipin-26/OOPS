{
 "cells": [
  {
   "cell_type": "markdown",
   "id": "e3d586b7",
   "metadata": {},
   "source": [
    "# OOPS"
   ]
  },
  {
   "cell_type": "markdown",
   "id": "f7285072",
   "metadata": {},
   "source": [
    "## Theoretical Questions"
   ]
  },
  {
   "cell_type": "markdown",
   "id": "166fc6ef",
   "metadata": {},
   "source": [
    "### Q1. What is Object-Oriented Programming (OOP)?\n",
    "- OOP is a programming paradigm that models software as a collection of objects that interact with each other. Each object encapsulates data and methods.\n",
    "\n",
    "### Q2. What is a class in OOP?\n",
    "- A class is a blueprint for creating objects. It defines the structure (attributes) and behavior (methods) of the objects.\n",
    "\n",
    "### Q3. What is an object in OOP?\n",
    "- An object is an instance of a class containing real values for the attributes and access to methods defined in the class.\n",
    "\n",
    "### Q4. What is the difference between abstraction and encapsulation?\n",
    "- Abstraction hides complex implementation details and shows only the necessary features.\n",
    "\n",
    "- Encapsulation binds data and methods into a single unit (class) and restricts direct access to some of the object's components.\n",
    "\n",
    "### Q5. What are dunder methods in Python?\n",
    "- Dunder (double underscore) methods, like `__init__`, `__str__`, or `__len__`, are special methods with double underscores that Python uses to perform specific operations.\n",
    "\n",
    "### Q6. Explain the concept of inheritance in OOP.\n",
    "- Inheritance allows a class (child) to inherit attributes and methods from another class (parent), promoting code reuse.\n",
    "\n",
    "### Q7. What is polymorphism in OOP?\n",
    "- Polymorphism allows different classes to be treated as instances of the same class through a common interface, enabling method overriding and flexibility in code.\n",
    "\n",
    "### Q8. How is encapsulation achieved in Python?\n",
    "- Encapsulation is achieved using access specifiers:\n",
    "    - `_protected`: suggested internal use,\n",
    "\n",
    "    - `__private`: name mangled to discourage external access.\n",
    "\n",
    "### Q9. What is a constructor in Python?\n",
    "- The `__init__` method is a constructor that initializes the object's attributes when it's created.\n",
    "\n",
    "### Q10. What are class and static methods in Python?\n",
    "- @classmethod: takes 'cls' as its first parameter and can access class variables.\n",
    "\n",
    "- @staticmethod: takes no special first argument and doesn’t access class or instance data.\n",
    "\n",
    "### Q11. What is method overloading in Python?\n",
    "- Python does not support traditional method overloading; it can be mimicked by default arguments or variable-length arguments.\n",
    "\n",
    "### Q12. What is method overriding in OOP?\n",
    "- When a subclass defines a method with the same name and signature as in its superclass, the subclass method overrides the parent one.\n",
    "\n",
    "### Q13. What is a property decorator in Python?\n",
    "- @property allows a method to be accessed like an attribute, enabling getter/setter functionality with cleaner syntax.\n",
    "\n",
    "### Q14. Why is polymorphism important in OOP?\n",
    "- It allows for code flexibility and reusability, enabling functions and methods to use objects of different classes interchangeably.\n",
    "\n",
    "### Q15. What is an abstract class in Python?\n",
    "- An abstract class (using abc module) contains one or more abstract methods and cannot be instantiated directly.\n",
    "\n",
    "### Q16. What are the advantages of OOP?\n",
    "- Modularity\n",
    "\n",
    "- Reusability\n",
    "\n",
    "- Scalability\n",
    "\n",
    "- Maintainability\n",
    "\n",
    "- Real-world modeling\n",
    "\n",
    "### Q17. What is multiple inheritance in Python?\n",
    "- A class can inherit from more than one parent class, gaining features from all of them. Python resolves conflicts via the Method Resolution Order (MRO).\n",
    "\n",
    "### Q18. What is the difference between a class variable and an instance variable?\n",
    "- Class variable: shared across all instances.\n",
    "\n",
    "- Instance variable: unique to each object.\n",
    "\n",
    "### Q19. Explain the purpose of `__str__` and `__repr__` methods in Python.\n",
    "- `__str__`: returns a readable string representation (for users).\n",
    "\n",
    "- `__repr__`: returns an unambiguous string (for developers/debugging).\n",
    "\n",
    "### Q20. What is the significance of the `super()` function in Python?\n",
    "- `super()` allows you to call methods from a parent class, useful especially in method overriding and multiple inheritance.\n",
    "\n",
    "### Q21. What is the significance of the `__del__` method in Python?\n",
    "- `__del__` is a destructor called when an object is about to be destroyed, allowing cleanup (though its use is discouraged in favor of context managers).\n",
    "\n",
    "### Q22. What is the difference between @staticmethod and @classmethod in Python?\n",
    "- @staticmethod: doesn’t access class or instance data.\n",
    "\n",
    "- @classmethod: accesses the class via the cls parameter.\n",
    "\n",
    "### Q23. How does polymorphism work in Python with inheritance?\n",
    "- Subclass methods can override parent methods, and functions can operate on objects of different classes through shared method names or base class types.\n",
    "\n",
    "### Q24. What is method chaining in Python OOP?\n",
    "- It’s the practice of returning self from methods so multiple methods can be called sequentially on the same object.\n",
    "\n",
    "### Q25. What is the purpose of the `__call__` method in Python?\n",
    "- It allows an instance of a class to be called like a function. Defining `__call__` makes the object callable."
   ]
  },
  {
   "cell_type": "markdown",
   "id": "d0f768eb",
   "metadata": {},
   "source": [
    "## Practical Questions"
   ]
  },
  {
   "cell_type": "markdown",
   "id": "cb2c3d9d",
   "metadata": {},
   "source": [
    "### Q1. Create a parent class Animal with a method speak() that prints a generic message. Create a child class Dog that overrides the speak() method to print \"Bark!\"."
   ]
  },
  {
   "cell_type": "code",
   "execution_count": 1,
   "id": "92ace39f",
   "metadata": {},
   "outputs": [
    {
     "name": "stdout",
     "output_type": "stream",
     "text": [
      "Bark!\n"
     ]
    }
   ],
   "source": [
    "class Animal:\n",
    "    def speak(self):\n",
    "        print(\"Some generic animal sound\")\n",
    "\n",
    "class Dog(Animal):\n",
    "    def speak(self):\n",
    "        print(\"Bark!\")\n",
    "\n",
    "d = Dog()\n",
    "d.speak()"
   ]
  },
  {
   "cell_type": "markdown",
   "id": "be3a5dbb",
   "metadata": {},
   "source": [
    "### Q2. Write a program to create an abstract class Shape with a method area(). Derive classes Circle and Rectangle from it and implement the area() method in both."
   ]
  },
  {
   "cell_type": "code",
   "execution_count": 2,
   "id": "b05c398b",
   "metadata": {},
   "outputs": [
    {
     "name": "stdout",
     "output_type": "stream",
     "text": [
      "28.274333882308138\n",
      "20\n"
     ]
    }
   ],
   "source": [
    "from abc import ABC, abstractmethod\n",
    "import math\n",
    "\n",
    "class Shape(ABC):\n",
    "    @abstractmethod\n",
    "    def area(self):\n",
    "        pass\n",
    "\n",
    "class Circle(Shape):\n",
    "    def __init__(self, radius):\n",
    "        self.radius = radius\n",
    "\n",
    "    def area(self):\n",
    "        return math.pi * self.radius ** 2\n",
    "\n",
    "class Rectangle(Shape):\n",
    "    def __init__(self, l, w):\n",
    "        self.length = l\n",
    "        self.width = w\n",
    "\n",
    "    def area(self):\n",
    "        return self.length * self.width\n",
    "\n",
    "c = Circle(3)\n",
    "r = Rectangle(4, 5)\n",
    "print(c.area())\n",
    "print(r.area())"
   ]
  },
  {
   "cell_type": "markdown",
   "id": "ddd7b214",
   "metadata": {},
   "source": [
    "### Q3. Implement a multi-level inheritance scenario where a class Vehicle has an attribute type. Derive a class Car and further derive a class ElectricCar that adds a battery attribute."
   ]
  },
  {
   "cell_type": "code",
   "execution_count": 3,
   "id": "32b97bd8",
   "metadata": {},
   "outputs": [
    {
     "name": "stdout",
     "output_type": "stream",
     "text": [
      "4-wheeler Tesla 100 kWh\n"
     ]
    }
   ],
   "source": [
    "class Vehicle:\n",
    "    def __init__(self, type):\n",
    "        self.type = type\n",
    "\n",
    "class Car(Vehicle):\n",
    "    def __init__(self, type, brand):\n",
    "        super().__init__(type)\n",
    "        self.brand = brand\n",
    "\n",
    "class ElectricCar(Car):\n",
    "    def __init__(self, type, brand, battery):\n",
    "        super().__init__(type, brand)\n",
    "        self.battery = battery\n",
    "\n",
    "e = ElectricCar(\"4-wheeler\", \"Tesla\", \"100 kWh\")\n",
    "print(e.type, e.brand, e.battery)"
   ]
  },
  {
   "cell_type": "markdown",
   "id": "c475452d",
   "metadata": {},
   "source": [
    "### Q4. Demonstrate polymorphism by creating a base class Bird with a method fly(). Create two derived classes Sparrow and Penguin that override the fly() method. "
   ]
  },
  {
   "cell_type": "code",
   "execution_count": 4,
   "id": "97913a89",
   "metadata": {},
   "outputs": [
    {
     "name": "stdout",
     "output_type": "stream",
     "text": [
      "Sparrow flies high\n",
      "Penguins can't fly\n"
     ]
    }
   ],
   "source": [
    "class Bird:\n",
    "    def fly(self):\n",
    "        print(\"Bird is flying\")\n",
    "\n",
    "class Sparrow(Bird):\n",
    "    def fly(self):\n",
    "        print(\"Sparrow flies high\")\n",
    "\n",
    "class Penguin(Bird):\n",
    "    def fly(self):\n",
    "        print(\"Penguins can't fly\")\n",
    "\n",
    "for bird in (Sparrow(), Penguin()):\n",
    "    bird.fly()"
   ]
  },
  {
   "cell_type": "markdown",
   "id": "4a8f62d0",
   "metadata": {},
   "source": [
    "### Q5. Write a program to demonstrate encapsulation by creating a class BankAccount with private attributes balance and methods to deposit, withdraw, and check balance. "
   ]
  },
  {
   "cell_type": "code",
   "execution_count": 5,
   "id": "75ce8f76",
   "metadata": {},
   "outputs": [
    {
     "name": "stdout",
     "output_type": "stream",
     "text": [
      "800\n"
     ]
    }
   ],
   "source": [
    "class BankAccount:\n",
    "    def __init__(self):\n",
    "        self.__balance = 0\n",
    "\n",
    "    def deposit(self, amount):\n",
    "        self.__balance += amount\n",
    "\n",
    "    def withdraw(self, amount):\n",
    "        if amount <= self.__balance:\n",
    "            self.__balance -= amount\n",
    "        else:\n",
    "            print(\"Insufficient funds\")\n",
    "\n",
    "    def check_balance(self):\n",
    "        return self.__balance\n",
    "\n",
    "acc = BankAccount()\n",
    "acc.deposit(1000)\n",
    "acc.withdraw(200)\n",
    "print(acc.check_balance())"
   ]
  },
  {
   "cell_type": "markdown",
   "id": "f5eb1995",
   "metadata": {},
   "source": [
    "### Q6. Demonstrate runtime polymorphism using a method play() in a base class Instrument. Derive classes Guitar and Piano that implement their own version of play()."
   ]
  },
  {
   "cell_type": "code",
   "execution_count": 6,
   "id": "7ff89b03",
   "metadata": {},
   "outputs": [
    {
     "name": "stdout",
     "output_type": "stream",
     "text": [
      "Strumming guitar\n",
      "Playing piano keys\n"
     ]
    }
   ],
   "source": [
    "class Instrument:\n",
    "    def play(self):\n",
    "        print(\"Playing instrument\")\n",
    "\n",
    "class Guitar(Instrument):\n",
    "    def play(self):\n",
    "        print(\"Strumming guitar\")\n",
    "\n",
    "class Piano(Instrument):\n",
    "    def play(self):\n",
    "        print(\"Playing piano keys\")\n",
    "\n",
    "for i in (Guitar(), Piano()):\n",
    "    i.play()"
   ]
  },
  {
   "cell_type": "markdown",
   "id": "93e1eca0",
   "metadata": {},
   "source": [
    "### Q7. Create a class MathOperations with a class method add_numbers() to add two numbers and a static method subtract_numbers() to subtract two numbers."
   ]
  },
  {
   "cell_type": "code",
   "execution_count": 7,
   "id": "f93e6edb",
   "metadata": {},
   "outputs": [
    {
     "name": "stdout",
     "output_type": "stream",
     "text": [
      "8\n",
      "2\n"
     ]
    }
   ],
   "source": [
    "class MathOperations:\n",
    "    @classmethod\n",
    "    def add_numbers(cls, a, b):\n",
    "        return a + b\n",
    "\n",
    "    @staticmethod\n",
    "    def subtract_numbers(a, b):\n",
    "        return a - b\n",
    "\n",
    "print(MathOperations.add_numbers(5, 3))\n",
    "print(MathOperations.subtract_numbers(5, 3))"
   ]
  },
  {
   "cell_type": "markdown",
   "id": "9cb57b16",
   "metadata": {},
   "source": [
    "### Q8. Implement a class Person with a class method to count the total number of persons created."
   ]
  },
  {
   "cell_type": "code",
   "execution_count": 8,
   "id": "045a09fa",
   "metadata": {},
   "outputs": [
    {
     "name": "stdout",
     "output_type": "stream",
     "text": [
      "2\n"
     ]
    }
   ],
   "source": [
    "class Person:\n",
    "    count = 0\n",
    "\n",
    "    def __init__(self):\n",
    "        Person.count += 1\n",
    "\n",
    "    @classmethod\n",
    "    def get_count(cls):\n",
    "        return cls.count\n",
    "\n",
    "p1 = Person()\n",
    "p2 = Person()\n",
    "print(Person.get_count())"
   ]
  },
  {
   "cell_type": "markdown",
   "id": "541fd45b",
   "metadata": {},
   "source": [
    "### Q9. Write a class Fraction with attributes numerator and denominator. Override the str method to display the fraction as \"numerator/denominator\"."
   ]
  },
  {
   "cell_type": "code",
   "execution_count": 9,
   "id": "d8532552",
   "metadata": {},
   "outputs": [
    {
     "name": "stdout",
     "output_type": "stream",
     "text": [
      "3/4\n"
     ]
    }
   ],
   "source": [
    "class Fraction:\n",
    "    def __init__(self, num, den):\n",
    "        self.num = num\n",
    "        self.den = den\n",
    "\n",
    "    def __str__(self):\n",
    "        return f\"{self.num}/{self.den}\"\n",
    "\n",
    "f = Fraction(3, 4)\n",
    "print(f)"
   ]
  },
  {
   "cell_type": "markdown",
   "id": "7fd6fbaf",
   "metadata": {},
   "source": [
    "### Q10. Demonstrate operator overloading by creating a class Vector and overriding the add method to add two vectors."
   ]
  },
  {
   "cell_type": "code",
   "execution_count": 10,
   "id": "b6c1c49b",
   "metadata": {},
   "outputs": [
    {
     "name": "stdout",
     "output_type": "stream",
     "text": [
      "(6, 4)\n"
     ]
    }
   ],
   "source": [
    "class Vector:\n",
    "    def __init__(self, x, y):\n",
    "        self.x = x\n",
    "        self.y = y\n",
    "\n",
    "    def __add__(self, other):\n",
    "        return Vector(self.x + other.x, self.y + other.y)\n",
    "\n",
    "    def __str__(self):\n",
    "        return f\"({self.x}, {self.y})\"\n",
    "\n",
    "v1 = Vector(2, 3)\n",
    "v2 = Vector(4, 1)\n",
    "print(v1 + v2)"
   ]
  },
  {
   "cell_type": "markdown",
   "id": "d259c970",
   "metadata": {},
   "source": [
    "### Q11. Create a class Person with attributes name and age. Add a method greet() that prints \"Hello, my name is {name} and I am {age} years old.\""
   ]
  },
  {
   "cell_type": "code",
   "execution_count": 12,
   "id": "9eac86ed",
   "metadata": {},
   "outputs": [
    {
     "name": "stdout",
     "output_type": "stream",
     "text": [
      "Hello, my name is Vipin and I am 24 years old.\n"
     ]
    }
   ],
   "source": [
    "class Person:\n",
    "    def __init__(self, name, age):\n",
    "        self.name = name\n",
    "        self.age = age\n",
    "\n",
    "    def greet(self):\n",
    "        print(f\"Hello, my name is {self.name} and I am {self.age} years old.\")\n",
    "\n",
    "p = Person(\"Vipin\", 24)\n",
    "p.greet()"
   ]
  },
  {
   "cell_type": "markdown",
   "id": "deab5c37",
   "metadata": {},
   "source": [
    "### Q12. Implement a class Student with attributes name and grades. Create a method average_grade() to compute the average of the grades."
   ]
  },
  {
   "cell_type": "code",
   "execution_count": 14,
   "id": "5989161b",
   "metadata": {},
   "outputs": [
    {
     "name": "stdout",
     "output_type": "stream",
     "text": [
      "84.33333333333333\n"
     ]
    }
   ],
   "source": [
    "class Student:\n",
    "    def __init__(self, name, grades):\n",
    "        self.name = name\n",
    "        self.grades = grades\n",
    "\n",
    "    def average_grade(self):\n",
    "        return sum(self.grades) / len(self.grades)\n",
    "\n",
    "s = Student(\"Ajay\", [85, 90, 78])\n",
    "print(s.average_grade())"
   ]
  },
  {
   "cell_type": "markdown",
   "id": "00832bf8",
   "metadata": {},
   "source": [
    "### Q13. Create a class Rectangle with methods set_dimensions() to set the dimensions and area() to calculate the area."
   ]
  },
  {
   "cell_type": "code",
   "execution_count": 15,
   "id": "01a0187e",
   "metadata": {},
   "outputs": [
    {
     "name": "stdout",
     "output_type": "stream",
     "text": [
      "15\n"
     ]
    }
   ],
   "source": [
    "class Rectangle:\n",
    "    def set_dimensions(self, l, w):\n",
    "        self.length = l\n",
    "        self.width = w\n",
    "\n",
    "    def area(self):\n",
    "        return self.length * self.width\n",
    "\n",
    "r = Rectangle()\n",
    "r.set_dimensions(5, 3)\n",
    "print(r.area())"
   ]
  },
  {
   "cell_type": "markdown",
   "id": "cb687107",
   "metadata": {},
   "source": [
    "### Q14. Create a class Employee with a method calculate_salary() that computes the salary based on hours worked and hourly rate. Create a derived class Manager that adds a bonus to the salary. Java + DSA"
   ]
  },
  {
   "cell_type": "code",
   "execution_count": 16,
   "id": "dfdb9117",
   "metadata": {},
   "outputs": [
    {
     "name": "stdout",
     "output_type": "stream",
     "text": [
      "2500\n"
     ]
    }
   ],
   "source": [
    "class Employee:\n",
    "    def calculate_salary(self, hours, rate):\n",
    "        return hours * rate\n",
    "\n",
    "class Manager(Employee):\n",
    "    def calculate_salary(self, hours, rate, bonus):\n",
    "        base = super().calculate_salary(hours, rate)\n",
    "        return base + bonus\n",
    "\n",
    "m = Manager()\n",
    "print(m.calculate_salary(40, 50, 500))"
   ]
  },
  {
   "cell_type": "markdown",
   "id": "80a4ce8a",
   "metadata": {},
   "source": [
    "### Q15. Create a class Product with attributes name, price, and quantity. Implement a method total_price() that calculates the total price of the product. "
   ]
  },
  {
   "cell_type": "code",
   "execution_count": 18,
   "id": "9c1cda24",
   "metadata": {},
   "outputs": [
    {
     "name": "stdout",
     "output_type": "stream",
     "text": [
      "100000\n"
     ]
    }
   ],
   "source": [
    "class Product:\n",
    "    def __init__(self, name, price, quantity):\n",
    "        self.name = name\n",
    "        self.price = price\n",
    "        self.quantity = quantity\n",
    "\n",
    "    def total_price(self):\n",
    "        return self.price * self.quantity\n",
    "\n",
    "p = Product(\"Laptop\", 50000, 2)\n",
    "print(p.total_price())"
   ]
  },
  {
   "cell_type": "markdown",
   "id": "ac3135cd",
   "metadata": {},
   "source": [
    "### Q16. Create a class Animal with an abstract method sound(). Create two derived classes Cow and Sheep that implement the sound() method."
   ]
  },
  {
   "cell_type": "code",
   "execution_count": 19,
   "id": "d778a13d",
   "metadata": {},
   "outputs": [
    {
     "name": "stdout",
     "output_type": "stream",
     "text": [
      "Moo\n",
      "Baa\n"
     ]
    }
   ],
   "source": [
    "from abc import ABC, abstractmethod\n",
    "\n",
    "class Animal(ABC):\n",
    "    @abstractmethod\n",
    "    def sound(self):\n",
    "        pass\n",
    "\n",
    "class Cow(Animal):\n",
    "    def sound(self):\n",
    "        print(\"Moo\")\n",
    "\n",
    "class Sheep(Animal):\n",
    "    def sound(self):\n",
    "        print(\"Baa\")\n",
    "\n",
    "for a in (Cow(), Sheep()):\n",
    "    a.sound()"
   ]
  },
  {
   "cell_type": "markdown",
   "id": "2eedc427",
   "metadata": {},
   "source": [
    "### Q17. Create a class Book with attributes title, author, and year_published. Add a method get_book_info() that returns a formatted string with the book's details."
   ]
  },
  {
   "cell_type": "code",
   "execution_count": 20,
   "id": "d6e2b419",
   "metadata": {},
   "outputs": [
    {
     "name": "stdout",
     "output_type": "stream",
     "text": [
      "Cosmos by Carl Sagan, published in 1980\n"
     ]
    }
   ],
   "source": [
    "class Book:\n",
    "    def __init__(self, title, author, year):\n",
    "        self.title = title\n",
    "        self.author = author\n",
    "        self.year = year\n",
    "\n",
    "    def get_book_info(self):\n",
    "        return f\"{self.title} by {self.author}, published in {self.year}\"\n",
    "\n",
    "b = Book(\"Cosmos\", \"Carl Sagan\", 1980)\n",
    "print(b.get_book_info())"
   ]
  },
  {
   "cell_type": "markdown",
   "id": "1c025273",
   "metadata": {},
   "source": [
    "### Q18. Create a class House with attributes address and price. Create a derived class Mansion that adds an attribute number_of_rooms."
   ]
  },
  {
   "cell_type": "code",
   "execution_count": 21,
   "id": "67054f5f",
   "metadata": {},
   "outputs": [
    {
     "name": "stdout",
     "output_type": "stream",
     "text": [
      "Mannat, a luxurious six-story villa located in Bandra, Mumbai 2000000 12\n"
     ]
    }
   ],
   "source": [
    "class House:\n",
    "    def __init__(self, address, price):\n",
    "        self.address = address\n",
    "        self.price = price\n",
    "\n",
    "class Mansion(House):\n",
    "    def __init__(self, address, price, rooms):\n",
    "        super().__init__(address, price)\n",
    "        self.number_of_rooms = rooms\n",
    "\n",
    "m = Mansion(\"Mannat, a luxurious six-story villa located in Bandra, Mumbai\", 2000000, 12)\n",
    "print(m.address, m.price, m.number_of_rooms)"
   ]
  }
 ],
 "metadata": {
  "kernelspec": {
   "display_name": "Python 3 (ipykernel)",
   "language": "python",
   "name": "python3"
  },
  "language_info": {
   "codemirror_mode": {
    "name": "ipython",
    "version": 3
   },
   "file_extension": ".py",
   "mimetype": "text/x-python",
   "name": "python",
   "nbconvert_exporter": "python",
   "pygments_lexer": "ipython3",
   "version": "3.9.13"
  }
 },
 "nbformat": 4,
 "nbformat_minor": 5
}
